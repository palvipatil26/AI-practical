{
  "nbformat": 4,
  "nbformat_minor": 0,
  "metadata": {
    "colab": {
      "provenance": []
    },
    "kernelspec": {
      "name": "python3",
      "display_name": "Python 3"
    },
    "language_info": {
      "name": "python"
    }
  },
  "cells": [
    {
      "cell_type": "markdown",
      "source": [
        "TOWER OF HANOI"
      ],
      "metadata": {
        "id": "wVTSXFdEH96i"
      }
    },
    {
      "cell_type": "code",
      "execution_count": 1,
      "metadata": {
        "colab": {
          "base_uri": "https://localhost:8080/"
        },
        "id": "dX4Fc0yzH0sY",
        "outputId": "c27c272d-3ef7-4028-edd3-b2c2cd13765a"
      },
      "outputs": [
        {
          "output_type": "stream",
          "name": "stdout",
          "text": [
            "Move disk 1 from source A to destination C\n",
            "Move disk 2 from source A to destination B\n",
            "Move disk 1 from source C to destination B\n",
            "Move disk 3 from source A to destination C\n",
            "Move disk 1 from source B to destination A\n",
            "Move disk 2 from source B to destination C\n",
            "Move disk 1 from source A to destination C\n",
            "Move disk 4 from source A to destination B\n",
            "Move disk 1 from source C to destination B\n",
            "Move disk 2 from source C to destination A\n",
            "Move disk 1 from source B to destination A\n",
            "Move disk 3 from source C to destination B\n",
            "Move disk 1 from source A to destination C\n",
            "Move disk 2 from source A to destination B\n",
            "Move disk 1 from source C to destination B\n"
          ]
        }
      ],
      "source": [
        "def TowerofHanoi(n, source, destination, auxiliary):\n",
        "  if n==1:\n",
        "    print(\"Move disk 1 from source\",source,\"to destination\",destination)\n",
        "    return\n",
        "  TowerofHanoi(n-1, source, auxiliary, destination)\n",
        "  print(\"Move disk\",n,\"from source\",source,\"to destination\",destination)\n",
        "  TowerofHanoi(n-1, auxiliary, destination, source)\n",
        "\n",
        "n=4\n",
        "TowerofHanoi(n,'A','B','C')"
      ]
    },
    {
      "cell_type": "code",
      "source": [],
      "metadata": {
        "id": "qGATK0RbJy9C"
      },
      "execution_count": null,
      "outputs": []
    }
  ]
}